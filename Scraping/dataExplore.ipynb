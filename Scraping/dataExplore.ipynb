{
 "cells": [
  {
   "cell_type": "code",
   "execution_count": 1,
   "metadata": {},
   "outputs": [],
   "source": [
    "import pandas as pd\n",
    "total = 0"
   ]
  },
  {
   "cell_type": "code",
   "execution_count": 2,
   "metadata": {},
   "outputs": [
    {
     "name": "stdout",
     "output_type": "stream",
     "text": [
      "<class 'pandas.core.frame.DataFrame'>\n",
      "RangeIndex: 3506 entries, 0 to 3505\n",
      "Data columns (total 7 columns):\n",
      " #   Column       Non-Null Count  Dtype \n",
      "---  ------       --------------  ----- \n",
      " 0   description  3504 non-null   object\n",
      " 1   features     3317 non-null   object\n",
      " 2   level        3506 non-null   object\n",
      " 3   link         3506 non-null   object\n",
      " 4   name         3506 non-null   object\n",
      " 5   number       3506 non-null   object\n",
      " 6   taught_in    3331 non-null   object\n",
      "dtypes: object(7)\n",
      "memory usage: 191.9+ KB\n"
     ]
    }
   ],
   "source": [
    "ocw=pd.read_csv('opencourse\\mitTest.csv')\n",
    "ocw.info()\n",
    "total+=ocw.shape[0]"
   ]
  },
  {
   "cell_type": "code",
   "execution_count": 3,
   "metadata": {},
   "outputs": [
    {
     "data": {
      "text/plain": [
       "1490    https://ocw.mit.edu/courses/literature/21l-470-eighteenth-century-literature-versions-of-the-self-in-18th-c-britain-spring-2003\n",
       "Name: link, dtype: object"
      ]
     },
     "execution_count": 3,
     "metadata": {},
     "output_type": "execute_result"
    }
   ],
   "source": [
    "pd.set_option('display.max_colwidth', 500)\n",
    "ocw['link'].sample()\n"
   ]
  },
  {
   "cell_type": "code",
   "execution_count": 4,
   "metadata": {},
   "outputs": [
    {
     "name": "stdout",
     "output_type": "stream",
     "text": [
      "<class 'pandas.core.frame.DataFrame'>\n",
      "RangeIndex: 40 entries, 0 to 39\n",
      "Data columns (total 6 columns):\n",
      " #   Column       Non-Null Count  Dtype \n",
      "---  ------       --------------  ----- \n",
      " 0   date         40 non-null     object\n",
      " 1   description  40 non-null     object\n",
      " 2   link         40 non-null     object\n",
      " 3   name         40 non-null     object\n",
      " 4   number       40 non-null     object\n",
      " 5   professor    40 non-null     object\n",
      "dtypes: object(6)\n",
      "memory usage: 2.0+ KB\n"
     ]
    }
   ],
   "source": [
    "yale = pd.read_csv('opencourse\\yaleTest.csv')\n",
    "yale.info()\n",
    "total+=yale.shape[0]"
   ]
  },
  {
   "cell_type": "code",
   "execution_count": 5,
   "metadata": {},
   "outputs": [
    {
     "data": {
      "text/plain": [
       "8    https://oyc.yale.edu/spanish-and-portuguese/span-300\n",
       "Name: link, dtype: object"
      ]
     },
     "execution_count": 5,
     "metadata": {},
     "output_type": "execute_result"
    }
   ],
   "source": [
    "yale['link'].sample()"
   ]
  },
  {
   "cell_type": "code",
   "execution_count": 6,
   "metadata": {},
   "outputs": [
    {
     "name": "stdout",
     "output_type": "stream",
     "text": [
      "<class 'pandas.core.frame.DataFrame'>\n",
      "RangeIndex: 784 entries, 0 to 783\n",
      "Data columns (total 8 columns):\n",
      " #   Column    Non-Null Count  Dtype \n",
      "---  ------    --------------  ----- \n",
      " 0   id        784 non-null    object\n",
      " 1   title     784 non-null    object\n",
      " 2   source    784 non-null    object\n",
      " 3   year      784 non-null    object\n",
      " 4   url       784 non-null    object\n",
      " 5   desc      784 non-null    object\n",
      " 6   tags      784 non-null    object\n",
      " 7   contains  784 non-null    object\n",
      "dtypes: object(8)\n",
      "memory usage: 49.1+ KB\n"
     ]
    }
   ],
   "source": [
    "import json\n",
    "\n",
    "with open('collegeCompendium.json',encoding='utf8') as json_file:\n",
    "    data = json.load(json_file)\n",
    "ccCourse = pd.DataFrame.from_dict(data['courses'])\n",
    "ccTextbook= pd.DataFrame.from_dict(data['textbooks'])\n",
    "ccCourse.info()\n",
    "total+=ccCourse.shape[0]"
   ]
  },
  {
   "cell_type": "code",
   "execution_count": 7,
   "metadata": {},
   "outputs": [
    {
     "data": {
      "text/plain": [
       "782    https://ocw.mit.edu/courses/mathematics/18-385j-nonlinear-dynamics-and-chaos-fall-2004/\n",
       "Name: url, dtype: object"
      ]
     },
     "execution_count": 7,
     "metadata": {},
     "output_type": "execute_result"
    }
   ],
   "source": [
    "ccCourse['url'].sample()"
   ]
  },
  {
   "cell_type": "code",
   "execution_count": 8,
   "metadata": {},
   "outputs": [
    {
     "name": "stdout",
     "output_type": "stream",
     "text": [
      "<class 'pandas.core.frame.DataFrame'>\n",
      "RangeIndex: 99 entries, 0 to 98\n",
      "Data columns (total 4 columns):\n",
      " #   Column    Non-Null Count  Dtype \n",
      "---  ------    --------------  ----- \n",
      " 0   book      99 non-null     object\n",
      " 1   url       99 non-null     object\n",
      " 2   author    99 non-null     object\n",
      " 3   category  99 non-null     object\n",
      "dtypes: object(4)\n",
      "memory usage: 3.2+ KB\n"
     ]
    }
   ],
   "source": [
    "ccCourse.to_csv('ccCourse.csv')\n",
    "ccTextbook.to_csv('ccTextbook.csv')\n",
    "ccTextbook.info()\n",
    "total+=ccTextbook.shape[0]"
   ]
  },
  {
   "cell_type": "code",
   "execution_count": 9,
   "metadata": {},
   "outputs": [
    {
     "data": {
      "text/plain": [
       "14    http://www.jmilne.org/math/Books/ectext.html\n",
       "Name: url, dtype: object"
      ]
     },
     "execution_count": 9,
     "metadata": {},
     "output_type": "execute_result"
    }
   ],
   "source": [
    "ccTextbook['url'].sample()"
   ]
  },
  {
   "cell_type": "code",
   "execution_count": null,
   "metadata": {},
   "outputs": [],
   "source": [
    "UIUC = pd.read_csv('opencourse/UIUCTest.csv')\n",
    "UIUC.info()\n",
    "total+=UIUC.shape[0]"
   ]
  },
  {
   "cell_type": "code",
   "execution_count": null,
   "metadata": {},
   "outputs": [
    {
     "data": {
      "text/plain": [
       "302    https://soc1024.ece.illinois.edu/teaching/ececs407/fa21/\n",
       "Name: website, dtype: object"
      ]
     },
     "execution_count": 11,
     "metadata": {},
     "output_type": "execute_result"
    }
   ],
   "source": [
    "UIUC['website'].sample()"
   ]
  },
  {
   "cell_type": "code",
   "execution_count": null,
   "metadata": {},
   "outputs": [
    {
     "name": "stdout",
     "output_type": "stream",
     "text": [
      "<class 'pandas.core.frame.DataFrame'>\n",
      "RangeIndex: 169 entries, 0 to 168\n",
      "Data columns (total 10 columns):\n",
      " #   Column         Non-Null Count  Dtype \n",
      "---  ------         --------------  ----- \n",
      " 0   description    169 non-null    object\n",
      " 1   link           169 non-null    object\n",
      " 2   name           167 non-null    object\n",
      " 3   number         169 non-null    object\n",
      " 4   prerequisites  138 non-null    object\n",
      " 5   profs          169 non-null    object\n",
      " 6   text_profs     51 non-null     object\n",
      " 7   type           167 non-null    object\n",
      " 8   units          168 non-null    object\n",
      " 9   websites       168 non-null    object\n",
      "dtypes: object(10)\n",
      "memory usage: 13.3+ KB\n"
     ]
    }
   ],
   "source": [
    "berk = pd.read_csv('opencourse/berkTest.csv')\n",
    "berk.info()\n",
    "total+=berk.shape[0]"
   ]
  },
  {
   "cell_type": "code",
   "execution_count": null,
   "metadata": {},
   "outputs": [
    {
     "data": {
      "text/plain": [
       "67    http://inst.eecs.berkeley.edu/~ee130\n",
       "Name: websites, dtype: object"
      ]
     },
     "execution_count": 13,
     "metadata": {},
     "output_type": "execute_result"
    }
   ],
   "source": [
    "berk['websites'].sample()"
   ]
  },
  {
   "cell_type": "code",
   "execution_count": null,
   "metadata": {},
   "outputs": [
    {
     "name": "stdout",
     "output_type": "stream",
     "text": [
      "<class 'pandas.core.frame.DataFrame'>\n",
      "RangeIndex: 40 entries, 0 to 39\n",
      "Data columns (total 12 columns):\n",
      " #   Column        Non-Null Count  Dtype \n",
      "---  ------        --------------  ----- \n",
      " 0   background    1 non-null      object\n",
      " 1   key_topics    1 non-null      object\n",
      " 2   last_offered  40 non-null     object\n",
      " 3   level         31 non-null     object\n",
      " 4   link          40 non-null     object\n",
      " 5   meta          39 non-null     object\n",
      " 6   name          40 non-null     object\n",
      " 7   number        40 non-null     object\n",
      " 8   permission    40 non-null     object\n",
      " 9   prereq        1 non-null      object\n",
      " 10  units         40 non-null     object\n",
      " 11  website       22 non-null     object\n",
      "dtypes: object(12)\n",
      "memory usage: 3.9+ KB\n"
     ]
    }
   ],
   "source": [
    "CMU = pd.read_csv('opencourse/CMUTest.csv')\n",
    "CMU.info()\n",
    "total+=CMU.shape[0]"
   ]
  },
  {
   "cell_type": "code",
   "execution_count": null,
   "metadata": {},
   "outputs": [
    {
     "data": {
      "text/plain": [
       "30    NaN\n",
       "Name: website, dtype: object"
      ]
     },
     "execution_count": 15,
     "metadata": {},
     "output_type": "execute_result"
    }
   ],
   "source": [
    "CMU['website'].sample()"
   ]
  },
  {
   "cell_type": "code",
   "execution_count": null,
   "metadata": {},
   "outputs": [
    {
     "name": "stdout",
     "output_type": "stream",
     "text": [
      "<class 'pandas.core.frame.DataFrame'>\n",
      "RangeIndex: 69 entries, 0 to 68\n",
      "Data columns (total 4 columns):\n",
      " #   Column  Non-Null Count  Dtype \n",
      "---  ------  --------------  ----- \n",
      " 0   link    69 non-null     object\n",
      " 1   name    68 non-null     object\n",
      " 2   number  69 non-null     object\n",
      " 3   prof    68 non-null     object\n",
      "dtypes: object(4)\n",
      "memory usage: 2.3+ KB\n"
     ]
    }
   ],
   "source": [
    "standford = pd.read_csv('opencourse/stanfordTest.csv')\n",
    "standford.info()\n",
    "total+=standford.shape[0]"
   ]
  },
  {
   "cell_type": "code",
   "execution_count": null,
   "metadata": {},
   "outputs": [
    {
     "data": {
      "text/plain": [
       "63    http://CS106S.Stanford.EDU\n",
       "Name: link, dtype: object"
      ]
     },
     "execution_count": 17,
     "metadata": {},
     "output_type": "execute_result"
    }
   ],
   "source": [
    "standford['link'].sample()"
   ]
  },
  {
   "cell_type": "code",
   "execution_count": null,
   "metadata": {},
   "outputs": [
    {
     "name": "stdout",
     "output_type": "stream",
     "text": [
      "<class 'pandas.core.frame.DataFrame'>\n",
      "RangeIndex: 53 entries, 0 to 52\n",
      "Data columns (total 4 columns):\n",
      " #   Column  Non-Null Count  Dtype \n",
      "---  ------  --------------  ----- \n",
      " 0   link    53 non-null     object\n",
      " 1   name    53 non-null     object\n",
      " 2   number  53 non-null     object\n",
      " 3   profs   45 non-null     object\n",
      "dtypes: object(4)\n",
      "memory usage: 1.8+ KB\n"
     ]
    }
   ],
   "source": [
    "Sail = pd.read_csv('opencourse/SAILTest.csv')\n",
    "Sail.info()\n",
    "total+=Sail.shape[0]"
   ]
  },
  {
   "cell_type": "code",
   "execution_count": null,
   "metadata": {},
   "outputs": [
    {
     "data": {
      "text/plain": [
       "1    http://logic.stanford.edu/classes/cs157/current/\n",
       "Name: link, dtype: object"
      ]
     },
     "execution_count": 19,
     "metadata": {},
     "output_type": "execute_result"
    }
   ],
   "source": [
    "Sail['link'].sample()"
   ]
  },
  {
   "cell_type": "code",
   "execution_count": null,
   "metadata": {},
   "outputs": [
    {
     "name": "stdout",
     "output_type": "stream",
     "text": [
      "<class 'pandas.core.frame.DataFrame'>\n",
      "RangeIndex: 209 entries, 0 to 208\n",
      "Data columns (total 2 columns):\n",
      " #   Column  Non-Null Count  Dtype \n",
      "---  ------  --------------  ----- \n",
      " 0   name    209 non-null    object\n",
      " 1   sites   209 non-null    object\n",
      "dtypes: object(2)\n",
      "memory usage: 3.4+ KB\n"
     ]
    }
   ],
   "source": [
    "cornell = pd.read_csv('opencourse/cornellTest.csv')\n",
    "cornell.info()\n",
    "total+=cornell.shape[0]"
   ]
  },
  {
   "cell_type": "code",
   "execution_count": null,
   "metadata": {},
   "outputs": [
    {
     "name": "stdout",
     "output_type": "stream",
     "text": [
      "http://www.cs.cornell.edu/courses/CS6110/2021sp/\n",
      "https://classes.cornell.edu/browse/roster/SP22/class/CS/6110\n"
     ]
    }
   ],
   "source": [
    "import json\n",
    "test = cornell['sites'].sample().values[0].replace('\\'', '\\\"')\n",
    "test = test.replace('[','')\n",
    "test = test.replace(']','')\n",
    "links = json.loads(test)\n",
    "for l in links.values():\n",
    "    print(l)"
   ]
  },
  {
   "cell_type": "code",
   "execution_count": null,
   "metadata": {},
   "outputs": [
    {
     "name": "stdout",
     "output_type": "stream",
     "text": [
      "<class 'pandas.core.frame.DataFrame'>\n",
      "RangeIndex: 88 entries, 0 to 87\n",
      "Data columns (total 5 columns):\n",
      " #   Column      Non-Null Count  Dtype \n",
      "---  ------      --------------  ----- \n",
      " 0   Group       88 non-null     object\n",
      " 1   Code        88 non-null     object\n",
      " 2   Course      88 non-null     object\n",
      " 3   Web         88 non-null     object\n",
      " 4   Unnamed: 4  14 non-null     object\n",
      "dtypes: object(5)\n",
      "memory usage: 3.6+ KB\n"
     ]
    }
   ],
   "source": [
    "stanford_strange = pd.read_csv('stanford_found.csv')\n",
    "stanford_strange.info()"
   ]
  },
  {
   "cell_type": "code",
   "execution_count": null,
   "metadata": {},
   "outputs": [
    {
     "data": {
      "text/plain": [
       "9    http://web.stanford.edu/class/cs107e/\n",
       "Name: Web, dtype: object"
      ]
     },
     "execution_count": 23,
     "metadata": {},
     "output_type": "execute_result"
    }
   ],
   "source": [
    "stanford_strange['Web'].sample()"
   ]
  },
  {
   "cell_type": "code",
   "execution_count": null,
   "metadata": {},
   "outputs": [
    {
     "data": {
      "text/html": [
       "<div>\n",
       "<style scoped>\n",
       "    .dataframe tbody tr th:only-of-type {\n",
       "        vertical-align: middle;\n",
       "    }\n",
       "\n",
       "    .dataframe tbody tr th {\n",
       "        vertical-align: top;\n",
       "    }\n",
       "\n",
       "    .dataframe thead th {\n",
       "        text-align: right;\n",
       "    }\n",
       "</style>\n",
       "<table border=\"1\" class=\"dataframe\">\n",
       "  <thead>\n",
       "    <tr style=\"text-align: right;\">\n",
       "      <th></th>\n",
       "      <th>description</th>\n",
       "      <th>link</th>\n",
       "      <th>name</th>\n",
       "      <th>number</th>\n",
       "      <th>prerequisites</th>\n",
       "      <th>profs</th>\n",
       "      <th>text_profs</th>\n",
       "      <th>type</th>\n",
       "      <th>units</th>\n",
       "      <th>websites</th>\n",
       "    </tr>\n",
       "  </thead>\n",
       "  <tbody>\n",
       "    <tr>\n",
       "      <th>0</th>\n",
       "      <td>Foundations of data science from three perspectives: inferential thinking, computational thinking, and real-world relevance. Given data arising from some real-world phenomenon, how does one analyze that data so as to understand that phenomenon? The course teaches critical concepts and skills in computer programming and statistical inference, in conjunction with hands-on analysis of real-world datasets, including economic data, document collections, geographical data, and social networks. It...</td>\n",
       "      <td>https://www2.eecs.berkeley.edu/Courses/CSC8</td>\n",
       "      <td>NaN</td>\n",
       "      <td>CS C8</td>\n",
       "      <td>This course may be taken on its own, but students are encouraged to take it concurrently with a data science connector course (numbered 88 in a range of departments).</td>\n",
       "      <td>[{}]</td>\n",
       "      <td>NaN</td>\n",
       "      <td>NaN</td>\n",
       "      <td>4.0</td>\n",
       "      <td>http://inst.eecs.berkeley.edu/~cs8</td>\n",
       "    </tr>\n",
       "    <tr>\n",
       "      <th>1</th>\n",
       "      <td>Fundamental dynamic data structures, including linear lists, queues, trees, and other linked structures; arrays strings, and hash tables. Storage management. Elementary principles of software engineering. Abstract data types. Algorithms for sorting and searching. Introduction to the Java programming language.</td>\n",
       "      <td>https://www2.eecs.berkeley.edu/Courses/CS61B</td>\n",
       "      <td>The Structure and Interpretation of Computer Programs</td>\n",
       "      <td>CS 61B</td>\n",
       "      <td>COMPSCI 61A, COMPSCI 88, or ENGIN 7.</td>\n",
       "      <td>[{'John\\xa0DeNero': 'https://www2.eecs.berkeley.edu/Faculty/Homepages/denero.html', 'Pamela\\xa0Fox': 'https://www2.eecs.berkeley.edu/Faculty/Homepages/pamelafox.html'}]</td>\n",
       "      <td>Vanshaj Singhania</td>\n",
       "      <td>LEC</td>\n",
       "      <td>4.0</td>\n",
       "      <td>http://inst.eecs.berkeley.edu/~cs61b</td>\n",
       "    </tr>\n",
       "    <tr>\n",
       "      <th>2</th>\n",
       "      <td>An introduction to programming and computer science focused on abstraction techniques as means to manage program complexity. Techniques include procedural abstraction; control abstraction using recursion, higher-order functions, generators, and streams; data abstraction using interfaces, objects, classes, and generic operators; and language abstraction using interpreters and macros. The course exposes students to programming paradigms, including functional, object-oriented, and declarative ...</td>\n",
       "      <td>https://www2.eecs.berkeley.edu/Courses/CS61A</td>\n",
       "      <td>Self-paced courses</td>\n",
       "      <td>CS 61A</td>\n",
       "      <td>MATH 1A (may be taken concurrently); programming experience equivalent to that gained from a score of 3 or above on the Advanced Placement Computer Science A exam.</td>\n",
       "      <td>[{'Ana\\xa0Arias': 'https://www2.eecs.berkeley.edu/Faculty/Homepages/acarias.html', 'Michael\\xa0Lustig': 'https://www2.eecs.berkeley.edu/Faculty/Homepages/mlustig.html'}]</td>\n",
       "      <td>Dahlia Saba,Dixun Cui</td>\n",
       "      <td>SLF</td>\n",
       "      <td>4.0</td>\n",
       "      <td>http://inst.eecs.berkeley.edu/~cs61a</td>\n",
       "    </tr>\n",
       "    <tr>\n",
       "      <th>3</th>\n",
       "      <td>This course allows students who have had a linear algebra and/or basic circuit theory course to complete the work in EE16A and be ready for EE16B or EE47E. The course focuses on the fundamentals of designing modern information devices and systems that interface with the real world and provides a comprehensive foundation for core EECS topics in signal processing, learning, control, and circuit design. Modeling is emphasized in a way that deepens mathematical maturity, and in both labs and ho...</td>\n",
       "      <td>https://www2.eecs.berkeley.edu/Courses/EECS47D_1977</td>\n",
       "      <td>Self-paced courses</td>\n",
       "      <td>EECS 47D</td>\n",
       "      <td>MATH 1A, MATH 1B, COMPSCI 61A (encouraged to be taken concurrently), college level courses in linear algebra and/or circuit theory, and consent of the instructor.</td>\n",
       "      <td>[{'Nicholas\\xa0Weaver': 'https://www2.eecs.berkeley.edu/Faculty/Homepages/nweaver.html'}]</td>\n",
       "      <td>NaN</td>\n",
       "      <td>SLF</td>\n",
       "      <td>1.0-3.0</td>\n",
       "      <td>http://inst.eecs.berkeley.edu/~eecs47d</td>\n",
       "    </tr>\n",
       "    <tr>\n",
       "      <th>4</th>\n",
       "      <td>MIPS instruction set simulation. The assembly and linking process. Caches and virtual memory. Pipelined computer organization. Students with sufficient partial credit in 61C may, with consent of instructor, complete the credit in this self-paced course.</td>\n",
       "      <td>https://www2.eecs.berkeley.edu/Courses/CS47C_1977</td>\n",
       "      <td>Self-paced courses</td>\n",
       "      <td>CS 47C</td>\n",
       "      <td>Experience with assembly language including writing an interrupt handler, COMPSCI 9C, and consent of instructor.</td>\n",
       "      <td>[{'Prof.\\xa0Josh\\xa0Hug': 'https://www2.eecs.berkeley.edu/Faculty/Homepages/joshhug.html'}]</td>\n",
       "      <td>NaN</td>\n",
       "      <td>SLF</td>\n",
       "      <td>1.0</td>\n",
       "      <td>http://inst.eecs.berkeley.edu/~cs47c</td>\n",
       "    </tr>\n",
       "    <tr>\n",
       "      <th>...</th>\n",
       "      <td>...</td>\n",
       "      <td>...</td>\n",
       "      <td>...</td>\n",
       "      <td>...</td>\n",
       "      <td>...</td>\n",
       "      <td>...</td>\n",
       "      <td>...</td>\n",
       "      <td>...</td>\n",
       "      <td>...</td>\n",
       "      <td>...</td>\n",
       "    </tr>\n",
       "    <tr>\n",
       "      <th>164</th>\n",
       "      <td>This course is an introduction to the field of robotics. It covers the fundamentals of kinematics, dynamics, control of robot manipulators, robotic vision, sensing, forward &amp; inverse kinematics of serial chain manipulators, the manipulator Jacobian, force relations, dynamics, &amp; control. We will present techniques for geometric motion planning &amp; obstacle avoidance. Open problems in trajectory generation with dynamic constraints will also be discussed. The course also presents the use of the ...</td>\n",
       "      <td>https://www2.eecs.berkeley.edu/Courses/EECSC106A</td>\n",
       "      <td>Principles &amp; Techniques of Data Science</td>\n",
       "      <td>EECS C106A</td>\n",
       "      <td>Familiarity with linear algebra at the level of EECS 16A/EECS 16B or Math 54. Experience coding in python at the level of COMPSCI 61A. \\nPreferred: experience developing software at the level of COMPSCI 61B and experience using Linux.</td>\n",
       "      <td>[{}]</td>\n",
       "      <td>Alvin Wan,Fernando Perez</td>\n",
       "      <td>LEC</td>\n",
       "      <td>4.0</td>\n",
       "      <td>http://inst.eecs.berkeley.edu/~eecs106a</td>\n",
       "    </tr>\n",
       "    <tr>\n",
       "      <th>165</th>\n",
       "      <td>In this course, students will explore the data science lifecycle, including question formulation, data collection and cleaning, exploratory data analysis and visualization, statistical inference and prediction​, and decision-making.​ This class will focus on quantitative critical thinking​ and key principles and techniques needed to carry out this cycle. These include languages for transforming, querying and analyzing data; algorithms for machine learning methods including regression, class...</td>\n",
       "      <td>https://www2.eecs.berkeley.edu/Courses/CSC100</td>\n",
       "      <td>Computational Structures in Data Science</td>\n",
       "      <td>CS C100</td>\n",
       "      <td>COMPSCI C8 / DATA C8 / INFO C8 / STAT C8; and COMPSCI 61A, COMPSCI 88, or ENGIN 7; Corequisite:  MATH 54 or EECS 16A.</td>\n",
       "      <td>[{'Michael\\xa0Ball': 'https://www2.eecs.berkeley.edu/Faculty/Homepages/mball.html'}]</td>\n",
       "      <td>NaN</td>\n",
       "      <td>LEC</td>\n",
       "      <td>4.0</td>\n",
       "      <td>http://inst.eecs.berkeley.edu/~cs100</td>\n",
       "    </tr>\n",
       "    <tr>\n",
       "      <th>166</th>\n",
       "      <td>Development of Computer Science topics appearing in Foundations of Data Science (C8); expands computational concepts and techniques of abstraction. Understanding  the structures that underlie the programs, algorithms, and languages used in data science and elsewhere.   Mastery of a particular programming language while studying general techniques for managing program complexity, e.g., functional, object-oriented, and declarative programming. Provides practical experience with composing larg...</td>\n",
       "      <td>https://www2.eecs.berkeley.edu/Courses/CS88</td>\n",
       "      <td>Discrete Mathematics and Probability Theory</td>\n",
       "      <td>CS 88</td>\n",
       "      <td>MATH 1A. Also, this course is a Data Science connector course and may only be taken concurrently with or after COMPSCI C8/DATA C8/INFO C8/STAT C8. Students may take more than one Data Science connector (88) course if they wish, concurrent with or after having taken the C8 course.</td>\n",
       "      <td>[{'Babak\\xa0AYAZIFAR': 'https://www2.eecs.berkeley.edu/Faculty/Homepages/ayazifar.html', 'Satish\\xa0Rao': 'https://www2.eecs.berkeley.edu/Faculty/Homepages/rao.html'}]</td>\n",
       "      <td>Tarang Srivastava</td>\n",
       "      <td>LEC</td>\n",
       "      <td>3.0</td>\n",
       "      <td>http://inst.eecs.berkeley.edu/~cs88</td>\n",
       "    </tr>\n",
       "    <tr>\n",
       "      <th>167</th>\n",
       "      <td>Logic, infinity, and induction; applications include undecidability and stable marriage problem. Modular arithmetic and GCDs; applications include primality testing and cryptography. Polynomials; examples include error correcting codes and interpolation. Probability including sample spaces, independence, random variables, law of large numbers; examples include load balancing, existence arguments, Bayesian inference.</td>\n",
       "      <td>https://www2.eecs.berkeley.edu/Courses/CS70</td>\n",
       "      <td>Machine Structures</td>\n",
       "      <td>CS 70</td>\n",
       "      <td>Sophomore mathematical maturity, and programming experience equivalent to that gained with a score of 3 or above on the Advanced Placement Computer Science A exam.</td>\n",
       "      <td>[{'John\\xa0WAWRZYNEK': 'https://www2.eecs.berkeley.edu/Faculty/Homepages/wawrzynek.html', 'Nicholas\\xa0Weaver': 'https://www2.eecs.berkeley.edu/Faculty/Homepages/nweaver.html'}]</td>\n",
       "      <td>Avinash Nandakumar,Connor McMahon,Jerry Xu</td>\n",
       "      <td>LEC</td>\n",
       "      <td>4.0</td>\n",
       "      <td>http://inst.eecs.berkeley.edu/~cs70</td>\n",
       "    </tr>\n",
       "    <tr>\n",
       "      <th>168</th>\n",
       "      <td>The internal organization and operation of digital computers. Machine architecture, support for high-level languages (logic, arithmetic, instruction sequencing) and operating systems (I/O, interrupts, memory management, process switching). Elements of computer logic design. Tradeoffs involved in fundamental architectural design decisions.</td>\n",
       "      <td>https://www2.eecs.berkeley.edu/Courses/CS61C</td>\n",
       "      <td>Data Structures</td>\n",
       "      <td>CS 61C</td>\n",
       "      <td>COMPSCI 61A, along with either COMPSCI 61B or COMPSCI 61BL, or programming experience equivalent to that gained in COMPSCI 9C, COMPSCI 9F, or COMPSCI 9G.</td>\n",
       "      <td>[{'Paul\\xa0HILFINGER': 'https://www2.eecs.berkeley.edu/Faculty/Homepages/hilfinger.html'}]</td>\n",
       "      <td>Anjali Kantharuban,Henry Maier,Linda Deng</td>\n",
       "      <td>LEC</td>\n",
       "      <td>4.0</td>\n",
       "      <td>http://inst.eecs.berkeley.edu/~cs61c</td>\n",
       "    </tr>\n",
       "  </tbody>\n",
       "</table>\n",
       "<p>169 rows × 10 columns</p>\n",
       "</div>"
      ],
      "text/plain": [
       "                                                                                                                                                                                                                                                                                                                                                                                                                                                                                                             description  \\\n",
       "0     Foundations of data science from three perspectives: inferential thinking, computational thinking, and real-world relevance. Given data arising from some real-world phenomenon, how does one analyze that data so as to understand that phenomenon? The course teaches critical concepts and skills in computer programming and statistical inference, in conjunction with hands-on analysis of real-world datasets, including economic data, document collections, geographical data, and social networks. It...   \n",
       "1                                                                                                                                                                                                Fundamental dynamic data structures, including linear lists, queues, trees, and other linked structures; arrays strings, and hash tables. Storage management. Elementary principles of software engineering. Abstract data types. Algorithms for sorting and searching. Introduction to the Java programming language.    \n",
       "2     An introduction to programming and computer science focused on abstraction techniques as means to manage program complexity. Techniques include procedural abstraction; control abstraction using recursion, higher-order functions, generators, and streams; data abstraction using interfaces, objects, classes, and generic operators; and language abstraction using interpreters and macros. The course exposes students to programming paradigms, including functional, object-oriented, and declarative ...   \n",
       "3     This course allows students who have had a linear algebra and/or basic circuit theory course to complete the work in EE16A and be ready for EE16B or EE47E. The course focuses on the fundamentals of designing modern information devices and systems that interface with the real world and provides a comprehensive foundation for core EECS topics in signal processing, learning, control, and circuit design. Modeling is emphasized in a way that deepens mathematical maturity, and in both labs and ho...   \n",
       "4                                                                                                                                                                                                                                                         MIPS instruction set simulation. The assembly and linking process. Caches and virtual memory. Pipelined computer organization. Students with sufficient partial credit in 61C may, with consent of instructor, complete the credit in this self-paced course.    \n",
       "..                                                                                                                                                                                                                                                                                                                                                                                                                                                                                                                   ...   \n",
       "164   This course is an introduction to the field of robotics. It covers the fundamentals of kinematics, dynamics, control of robot manipulators, robotic vision, sensing, forward & inverse kinematics of serial chain manipulators, the manipulator Jacobian, force relations, dynamics, & control. We will present techniques for geometric motion planning & obstacle avoidance. Open problems in trajectory generation with dynamic constraints will also be discussed. The course also presents the use of the ...   \n",
       "165   In this course, students will explore the data science lifecycle, including question formulation, data collection and cleaning, exploratory data analysis and visualization, statistical inference and prediction​, and decision-making.​ This class will focus on quantitative critical thinking​ and key principles and techniques needed to carry out this cycle. These include languages for transforming, querying and analyzing data; algorithms for machine learning methods including regression, class...   \n",
       "166   Development of Computer Science topics appearing in Foundations of Data Science (C8); expands computational concepts and techniques of abstraction. Understanding  the structures that underlie the programs, algorithms, and languages used in data science and elsewhere.   Mastery of a particular programming language while studying general techniques for managing program complexity, e.g., functional, object-oriented, and declarative programming. Provides practical experience with composing larg...   \n",
       "167                                                                                 Logic, infinity, and induction; applications include undecidability and stable marriage problem. Modular arithmetic and GCDs; applications include primality testing and cryptography. Polynomials; examples include error correcting codes and interpolation. Probability including sample spaces, independence, random variables, law of large numbers; examples include load balancing, existence arguments, Bayesian inference.    \n",
       "168                                                                                                                                                                The internal organization and operation of digital computers. Machine architecture, support for high-level languages (logic, arithmetic, instruction sequencing) and operating systems (I/O, interrupts, memory management, process switching). Elements of computer logic design. Tradeoffs involved in fundamental architectural design decisions.    \n",
       "\n",
       "                                                    link  \\\n",
       "0            https://www2.eecs.berkeley.edu/Courses/CSC8   \n",
       "1           https://www2.eecs.berkeley.edu/Courses/CS61B   \n",
       "2           https://www2.eecs.berkeley.edu/Courses/CS61A   \n",
       "3    https://www2.eecs.berkeley.edu/Courses/EECS47D_1977   \n",
       "4      https://www2.eecs.berkeley.edu/Courses/CS47C_1977   \n",
       "..                                                   ...   \n",
       "164     https://www2.eecs.berkeley.edu/Courses/EECSC106A   \n",
       "165        https://www2.eecs.berkeley.edu/Courses/CSC100   \n",
       "166          https://www2.eecs.berkeley.edu/Courses/CS88   \n",
       "167          https://www2.eecs.berkeley.edu/Courses/CS70   \n",
       "168         https://www2.eecs.berkeley.edu/Courses/CS61C   \n",
       "\n",
       "                                                      name      number  \\\n",
       "0                                                      NaN       CS C8   \n",
       "1    The Structure and Interpretation of Computer Programs      CS 61B   \n",
       "2                                       Self-paced courses      CS 61A   \n",
       "3                                       Self-paced courses    EECS 47D   \n",
       "4                                       Self-paced courses      CS 47C   \n",
       "..                                                     ...         ...   \n",
       "164                Principles & Techniques of Data Science  EECS C106A   \n",
       "165               Computational Structures in Data Science     CS C100   \n",
       "166            Discrete Mathematics and Probability Theory       CS 88   \n",
       "167                                     Machine Structures       CS 70   \n",
       "168                                        Data Structures      CS 61C   \n",
       "\n",
       "                                                                                                                                                                                                                                                                                 prerequisites  \\\n",
       "0                                                                                                                       This course may be taken on its own, but students are encouraged to take it concurrently with a data science connector course (numbered 88 in a range of departments).   \n",
       "1                                                                                                                                                                                                                                                         COMPSCI 61A, COMPSCI 88, or ENGIN 7.   \n",
       "2                                                                                                                          MATH 1A (may be taken concurrently); programming experience equivalent to that gained from a score of 3 or above on the Advanced Placement Computer Science A exam.   \n",
       "3                                                                                                                           MATH 1A, MATH 1B, COMPSCI 61A (encouraged to be taken concurrently), college level courses in linear algebra and/or circuit theory, and consent of the instructor.   \n",
       "4                                                                                                                                                                             Experience with assembly language including writing an interrupt handler, COMPSCI 9C, and consent of instructor.   \n",
       "..                                                                                                                                                                                                                                                                                         ...   \n",
       "164                                                 Familiarity with linear algebra at the level of EECS 16A/EECS 16B or Math 54. Experience coding in python at the level of COMPSCI 61A. \\nPreferred: experience developing software at the level of COMPSCI 61B and experience using Linux.   \n",
       "165                                                                                                                                                                      COMPSCI C8 / DATA C8 / INFO C8 / STAT C8; and COMPSCI 61A, COMPSCI 88, or ENGIN 7; Corequisite:  MATH 54 or EECS 16A.   \n",
       "166   MATH 1A. Also, this course is a Data Science connector course and may only be taken concurrently with or after COMPSCI C8/DATA C8/INFO C8/STAT C8. Students may take more than one Data Science connector (88) course if they wish, concurrent with or after having taken the C8 course.   \n",
       "167                                                                                                                        Sophomore mathematical maturity, and programming experience equivalent to that gained with a score of 3 or above on the Advanced Placement Computer Science A exam.   \n",
       "168                                                                                                                                  COMPSCI 61A, along with either COMPSCI 61B or COMPSCI 61BL, or programming experience equivalent to that gained in COMPSCI 9C, COMPSCI 9F, or COMPSCI 9G.   \n",
       "\n",
       "                                                                                                                                                                                 profs  \\\n",
       "0                                                                                                                                                                                 [{}]   \n",
       "1             [{'John\\xa0DeNero': 'https://www2.eecs.berkeley.edu/Faculty/Homepages/denero.html', 'Pamela\\xa0Fox': 'https://www2.eecs.berkeley.edu/Faculty/Homepages/pamelafox.html'}]   \n",
       "2            [{'Ana\\xa0Arias': 'https://www2.eecs.berkeley.edu/Faculty/Homepages/acarias.html', 'Michael\\xa0Lustig': 'https://www2.eecs.berkeley.edu/Faculty/Homepages/mlustig.html'}]   \n",
       "3                                                                                            [{'Nicholas\\xa0Weaver': 'https://www2.eecs.berkeley.edu/Faculty/Homepages/nweaver.html'}]   \n",
       "4                                                                                          [{'Prof.\\xa0Josh\\xa0Hug': 'https://www2.eecs.berkeley.edu/Faculty/Homepages/joshhug.html'}]   \n",
       "..                                                                                                                                                                                 ...   \n",
       "164                                                                                                                                                                               [{}]   \n",
       "165                                                                                               [{'Michael\\xa0Ball': 'https://www2.eecs.berkeley.edu/Faculty/Homepages/mball.html'}]   \n",
       "166            [{'Babak\\xa0AYAZIFAR': 'https://www2.eecs.berkeley.edu/Faculty/Homepages/ayazifar.html', 'Satish\\xa0Rao': 'https://www2.eecs.berkeley.edu/Faculty/Homepages/rao.html'}]   \n",
       "167  [{'John\\xa0WAWRZYNEK': 'https://www2.eecs.berkeley.edu/Faculty/Homepages/wawrzynek.html', 'Nicholas\\xa0Weaver': 'https://www2.eecs.berkeley.edu/Faculty/Homepages/nweaver.html'}]   \n",
       "168                                                                                         [{'Paul\\xa0HILFINGER': 'https://www2.eecs.berkeley.edu/Faculty/Homepages/hilfinger.html'}]   \n",
       "\n",
       "                                     text_profs type     units  \\\n",
       "0                                           NaN  NaN       4.0   \n",
       "1                             Vanshaj Singhania  LEC       4.0   \n",
       "2                         Dahlia Saba,Dixun Cui  SLF       4.0   \n",
       "3                                           NaN  SLF   1.0-3.0   \n",
       "4                                           NaN  SLF       1.0   \n",
       "..                                          ...  ...       ...   \n",
       "164                    Alvin Wan,Fernando Perez  LEC       4.0   \n",
       "165                                         NaN  LEC       4.0   \n",
       "166                           Tarang Srivastava  LEC       3.0   \n",
       "167  Avinash Nandakumar,Connor McMahon,Jerry Xu  LEC       4.0   \n",
       "168   Anjali Kantharuban,Henry Maier,Linda Deng  LEC       4.0   \n",
       "\n",
       "                                    websites  \n",
       "0         http://inst.eecs.berkeley.edu/~cs8  \n",
       "1       http://inst.eecs.berkeley.edu/~cs61b  \n",
       "2       http://inst.eecs.berkeley.edu/~cs61a  \n",
       "3     http://inst.eecs.berkeley.edu/~eecs47d  \n",
       "4       http://inst.eecs.berkeley.edu/~cs47c  \n",
       "..                                       ...  \n",
       "164  http://inst.eecs.berkeley.edu/~eecs106a  \n",
       "165     http://inst.eecs.berkeley.edu/~cs100  \n",
       "166      http://inst.eecs.berkeley.edu/~cs88  \n",
       "167      http://inst.eecs.berkeley.edu/~cs70  \n",
       "168     http://inst.eecs.berkeley.edu/~cs61c  \n",
       "\n",
       "[169 rows x 10 columns]"
      ]
     },
     "execution_count": 24,
     "metadata": {},
     "output_type": "execute_result"
    }
   ],
   "source": [
    "berk"
   ]
  },
  {
   "cell_type": "code",
   "execution_count": null,
   "metadata": {},
   "outputs": [],
   "source": []
  }
 ],
 "metadata": {
  "interpreter": {
   "hash": "477b0f084b4c7621a57e4b93acb107554464d6563d5f36800a6efb0ddec20e9e"
  },
  "kernelspec": {
   "display_name": "Python 3.7.12 64-bit ('scrape': conda)",
   "language": "python",
   "name": "python3"
  },
  "language_info": {
   "codemirror_mode": {
    "name": "ipython",
    "version": 3
   },
   "file_extension": ".py",
   "mimetype": "text/x-python",
   "name": "python",
   "nbconvert_exporter": "python",
   "pygments_lexer": "ipython3",
   "version": "3.7.12"
  },
  "orig_nbformat": 4
 },
 "nbformat": 4,
 "nbformat_minor": 2
}
