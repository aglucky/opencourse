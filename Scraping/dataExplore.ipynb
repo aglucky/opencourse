{
 "cells": [
  {
   "cell_type": "code",
   "execution_count": 3,
   "metadata": {},
   "outputs": [],
   "source": [
    "import pandas as pd\n",
    "total = 0"
   ]
  },
  {
   "cell_type": "code",
   "execution_count": 4,
   "metadata": {},
   "outputs": [
    {
     "name": "stdout",
     "output_type": "stream",
     "text": [
      "<class 'pandas.core.frame.DataFrame'>\n",
      "RangeIndex: 3506 entries, 0 to 3505\n",
      "Data columns (total 7 columns):\n",
      " #   Column       Non-Null Count  Dtype \n",
      "---  ------       --------------  ----- \n",
      " 0   description  3504 non-null   object\n",
      " 1   features     3317 non-null   object\n",
      " 2   level        3506 non-null   object\n",
      " 3   link         3506 non-null   object\n",
      " 4   name         3506 non-null   object\n",
      " 5   number       3506 non-null   object\n",
      " 6   taught_in    3331 non-null   object\n",
      "dtypes: object(7)\n",
      "memory usage: 191.9+ KB\n"
     ]
    }
   ],
   "source": [
    "ocw=pd.read_csv('opencourse\\mitTest.csv')\n",
    "ocw.info()\n",
    "total+=ocw.shape[0]"
   ]
  },
  {
   "cell_type": "code",
   "execution_count": 5,
   "metadata": {},
   "outputs": [
    {
     "data": {
      "text/plain": [
       "2977    https://ocw.mit.edu/courses/brain-and-cognitive-sciences/9-301j-neural-plasticity-in-learning-and-development-spring-2002\n",
       "Name: link, dtype: object"
      ]
     },
     "execution_count": 5,
     "metadata": {},
     "output_type": "execute_result"
    }
   ],
   "source": [
    "pd.set_option('display.max_colwidth', 500)\n",
    "ocw['link'].sample()\n"
   ]
  },
  {
   "cell_type": "code",
   "execution_count": 6,
   "metadata": {},
   "outputs": [
    {
     "name": "stdout",
     "output_type": "stream",
     "text": [
      "<class 'pandas.core.frame.DataFrame'>\n",
      "RangeIndex: 40 entries, 0 to 39\n",
      "Data columns (total 6 columns):\n",
      " #   Column       Non-Null Count  Dtype \n",
      "---  ------       --------------  ----- \n",
      " 0   date         40 non-null     object\n",
      " 1   description  40 non-null     object\n",
      " 2   link         40 non-null     object\n",
      " 3   name         40 non-null     object\n",
      " 4   number       40 non-null     object\n",
      " 5   professor    40 non-null     object\n",
      "dtypes: object(6)\n",
      "memory usage: 2.0+ KB\n"
     ]
    }
   ],
   "source": [
    "yale = pd.read_csv('opencourse\\yaleTest.csv')\n",
    "yale.info()\n",
    "total+=yale.shape[0]"
   ]
  },
  {
   "cell_type": "code",
   "execution_count": 7,
   "metadata": {},
   "outputs": [
    {
     "data": {
      "text/plain": [
       "39    https://oyc.yale.edu/economics/econ-159\n",
       "Name: link, dtype: object"
      ]
     },
     "execution_count": 7,
     "metadata": {},
     "output_type": "execute_result"
    }
   ],
   "source": [
    "yale['link'].sample()"
   ]
  },
  {
   "cell_type": "code",
   "execution_count": 8,
   "metadata": {},
   "outputs": [
    {
     "name": "stdout",
     "output_type": "stream",
     "text": [
      "<class 'pandas.core.frame.DataFrame'>\n",
      "RangeIndex: 784 entries, 0 to 783\n",
      "Data columns (total 8 columns):\n",
      " #   Column    Non-Null Count  Dtype \n",
      "---  ------    --------------  ----- \n",
      " 0   id        784 non-null    object\n",
      " 1   title     784 non-null    object\n",
      " 2   source    784 non-null    object\n",
      " 3   year      784 non-null    object\n",
      " 4   url       784 non-null    object\n",
      " 5   desc      784 non-null    object\n",
      " 6   tags      784 non-null    object\n",
      " 7   contains  784 non-null    object\n",
      "dtypes: object(8)\n",
      "memory usage: 49.1+ KB\n"
     ]
    }
   ],
   "source": [
    "import json\n",
    "\n",
    "with open('collegeCompendium.json',encoding='utf8') as json_file:\n",
    "    data = json.load(json_file)\n",
    "ccCourse = pd.DataFrame.from_dict(data['courses'])\n",
    "ccTextbook= pd.DataFrame.from_dict(data['textbooks'])\n",
    "ccCourse.info()\n",
    "total+=ccCourse.shape[0]"
   ]
  },
  {
   "cell_type": "code",
   "execution_count": 9,
   "metadata": {},
   "outputs": [
    {
     "data": {
      "text/plain": [
       "744    https://ocw.mit.edu/courses/electrical-engineering-and-computer-science/6-831-user-interface-design-and-implementation-spring-2011/\n",
       "Name: url, dtype: object"
      ]
     },
     "execution_count": 9,
     "metadata": {},
     "output_type": "execute_result"
    }
   ],
   "source": [
    "ccCourse['url'].sample()"
   ]
  },
  {
   "cell_type": "code",
   "execution_count": 10,
   "metadata": {},
   "outputs": [
    {
     "name": "stdout",
     "output_type": "stream",
     "text": [
      "<class 'pandas.core.frame.DataFrame'>\n",
      "RangeIndex: 99 entries, 0 to 98\n",
      "Data columns (total 4 columns):\n",
      " #   Column    Non-Null Count  Dtype \n",
      "---  ------    --------------  ----- \n",
      " 0   book      99 non-null     object\n",
      " 1   url       99 non-null     object\n",
      " 2   author    99 non-null     object\n",
      " 3   category  99 non-null     object\n",
      "dtypes: object(4)\n",
      "memory usage: 3.2+ KB\n"
     ]
    }
   ],
   "source": [
    "ccCourse.to_csv('ccCourse.csv')\n",
    "ccTextbook.to_csv('ccTextbook.csv')\n",
    "ccTextbook.info()\n",
    "total+=ccTextbook.shape[0]"
   ]
  },
  {
   "cell_type": "code",
   "execution_count": 11,
   "metadata": {},
   "outputs": [
    {
     "data": {
      "text/plain": [
       "31    https://open.umn.edu/opentextbooks/textbooks/first-semester-in-numerical-analysis-with-python\n",
       "Name: url, dtype: object"
      ]
     },
     "execution_count": 11,
     "metadata": {},
     "output_type": "execute_result"
    }
   ],
   "source": [
    "ccTextbook['url'].sample()"
   ]
  },
  {
   "cell_type": "code",
   "execution_count": 12,
   "metadata": {},
   "outputs": [
    {
     "name": "stdout",
     "output_type": "stream",
     "text": [
      "<class 'pandas.core.frame.DataFrame'>\n",
      "RangeIndex: 457 entries, 0 to 456\n",
      "Data columns (total 8 columns):\n",
      " #   Column        Non-Null Count  Dtype \n",
      "---  ------        --------------  ----- \n",
      " 0   description   438 non-null    object\n",
      " 1   directors     457 non-null    object\n",
      " 2   last_updated  121 non-null    object\n",
      " 3   link          457 non-null    object\n",
      " 4   name          457 non-null    object\n",
      " 5   number        457 non-null    object\n",
      " 6   prereq        32 non-null     object\n",
      " 7   website       229 non-null    object\n",
      "dtypes: object(8)\n",
      "memory usage: 28.7+ KB\n"
     ]
    }
   ],
   "source": [
    "UIUC = pd.read_csv('opencourse/UIUCTest.csv')\n",
    "UIUC.info()\n",
    "total+=UIUC.shape[0]"
   ]
  },
  {
   "cell_type": "code",
   "execution_count": 13,
   "metadata": {},
   "outputs": [
    {
     "data": {
      "text/plain": [
       "337    NaN\n",
       "Name: website, dtype: object"
      ]
     },
     "execution_count": 13,
     "metadata": {},
     "output_type": "execute_result"
    }
   ],
   "source": [
    "UIUC['website'].sample()"
   ]
  },
  {
   "cell_type": "code",
   "execution_count": 14,
   "metadata": {},
   "outputs": [
    {
     "name": "stdout",
     "output_type": "stream",
     "text": [
      "<class 'pandas.core.frame.DataFrame'>\n",
      "RangeIndex: 169 entries, 0 to 168\n",
      "Data columns (total 10 columns):\n",
      " #   Column         Non-Null Count  Dtype \n",
      "---  ------         --------------  ----- \n",
      " 0   description    169 non-null    object\n",
      " 1   link           169 non-null    object\n",
      " 2   name           167 non-null    object\n",
      " 3   number         169 non-null    object\n",
      " 4   prerequisites  138 non-null    object\n",
      " 5   profs          169 non-null    object\n",
      " 6   text_profs     51 non-null     object\n",
      " 7   type           167 non-null    object\n",
      " 8   units          168 non-null    object\n",
      " 9   websites       168 non-null    object\n",
      "dtypes: object(10)\n",
      "memory usage: 13.3+ KB\n"
     ]
    }
   ],
   "source": [
    "berk = pd.read_csv('opencourse/berkTest.csv')\n",
    "berk.info()\n",
    "total+=berk.shape[0]"
   ]
  },
  {
   "cell_type": "code",
   "execution_count": 15,
   "metadata": {},
   "outputs": [
    {
     "data": {
      "text/plain": [
       "99    http://inst.eecs.berkeley.edu/~cs294\n",
       "Name: websites, dtype: object"
      ]
     },
     "execution_count": 15,
     "metadata": {},
     "output_type": "execute_result"
    }
   ],
   "source": [
    "berk['websites'].sample()"
   ]
  },
  {
   "cell_type": "code",
   "execution_count": 16,
   "metadata": {},
   "outputs": [
    {
     "name": "stdout",
     "output_type": "stream",
     "text": [
      "<class 'pandas.core.frame.DataFrame'>\n",
      "RangeIndex: 37 entries, 0 to 36\n",
      "Data columns (total 12 columns):\n",
      " #   Column        Non-Null Count  Dtype  \n",
      "---  ------        --------------  -----  \n",
      " 0   background    0 non-null      float64\n",
      " 1   key_topics    0 non-null      float64\n",
      " 2   last_offered  37 non-null     object \n",
      " 3   level         29 non-null     object \n",
      " 4   link          37 non-null     object \n",
      " 5   meta          36 non-null     object \n",
      " 6   name          37 non-null     object \n",
      " 7   number        37 non-null     object \n",
      " 8   permission    37 non-null     object \n",
      " 9   prereq        0 non-null      float64\n",
      " 10  units         37 non-null     object \n",
      " 11  website       21 non-null     object \n",
      "dtypes: float64(3), object(9)\n",
      "memory usage: 3.6+ KB\n"
     ]
    }
   ],
   "source": [
    "CMU = pd.read_csv('opencourse/CMUTest.csv')\n",
    "CMU.info()\n",
    "total+=CMU.shape[0]"
   ]
  },
  {
   "cell_type": "code",
   "execution_count": 17,
   "metadata": {},
   "outputs": [
    {
     "data": {
      "text/plain": [
       "14    http://www.cs.cmu.edu/~15251/policy.html,http://www.cs.cmu.edu/~15251/\n",
       "Name: website, dtype: object"
      ]
     },
     "execution_count": 17,
     "metadata": {},
     "output_type": "execute_result"
    }
   ],
   "source": [
    "CMU['website'].sample()"
   ]
  },
  {
   "cell_type": "code",
   "execution_count": 18,
   "metadata": {},
   "outputs": [
    {
     "name": "stdout",
     "output_type": "stream",
     "text": [
      "<class 'pandas.core.frame.DataFrame'>\n",
      "RangeIndex: 69 entries, 0 to 68\n",
      "Data columns (total 4 columns):\n",
      " #   Column  Non-Null Count  Dtype \n",
      "---  ------  --------------  ----- \n",
      " 0   link    69 non-null     object\n",
      " 1   name    68 non-null     object\n",
      " 2   number  69 non-null     object\n",
      " 3   prof    68 non-null     object\n",
      "dtypes: object(4)\n",
      "memory usage: 2.3+ KB\n"
     ]
    }
   ],
   "source": [
    "standford = pd.read_csv('opencourse/stanfordTest.csv')\n",
    "standford.info()\n",
    "total+=standford.shape[0]"
   ]
  },
  {
   "cell_type": "code",
   "execution_count": 19,
   "metadata": {},
   "outputs": [
    {
     "data": {
      "text/plain": [
       "55    http://CS110.Stanford.EDU\n",
       "Name: link, dtype: object"
      ]
     },
     "execution_count": 19,
     "metadata": {},
     "output_type": "execute_result"
    }
   ],
   "source": [
    "standford['link'].sample()"
   ]
  },
  {
   "cell_type": "code",
   "execution_count": 20,
   "metadata": {},
   "outputs": [
    {
     "name": "stdout",
     "output_type": "stream",
     "text": [
      "<class 'pandas.core.frame.DataFrame'>\n",
      "RangeIndex: 53 entries, 0 to 52\n",
      "Data columns (total 4 columns):\n",
      " #   Column  Non-Null Count  Dtype \n",
      "---  ------  --------------  ----- \n",
      " 0   link    53 non-null     object\n",
      " 1   name    53 non-null     object\n",
      " 2   number  53 non-null     object\n",
      " 3   profs   45 non-null     object\n",
      "dtypes: object(4)\n",
      "memory usage: 1.8+ KB\n"
     ]
    }
   ],
   "source": [
    "Sail = pd.read_csv('opencourse/SAILTest.csv')\n",
    "Sail.info()\n",
    "total+=Sail.shape[0]"
   ]
  },
  {
   "cell_type": "code",
   "execution_count": 21,
   "metadata": {},
   "outputs": [
    {
     "data": {
      "text/plain": [
       "50    http://graphics.stanford.edu/ba-colloquium/\n",
       "Name: link, dtype: object"
      ]
     },
     "execution_count": 21,
     "metadata": {},
     "output_type": "execute_result"
    }
   ],
   "source": [
    "Sail['link'].sample()"
   ]
  },
  {
   "cell_type": "code",
   "execution_count": 22,
   "metadata": {},
   "outputs": [
    {
     "name": "stdout",
     "output_type": "stream",
     "text": [
      "<class 'pandas.core.frame.DataFrame'>\n",
      "RangeIndex: 209 entries, 0 to 208\n",
      "Data columns (total 2 columns):\n",
      " #   Column  Non-Null Count  Dtype \n",
      "---  ------  --------------  ----- \n",
      " 0   name    209 non-null    object\n",
      " 1   sites   209 non-null    object\n",
      "dtypes: object(2)\n",
      "memory usage: 3.4+ KB\n"
     ]
    }
   ],
   "source": [
    "cornell = pd.read_csv('opencourse/cornellTest.csv')\n",
    "cornell.info()\n",
    "total+=cornell.shape[0]"
   ]
  },
  {
   "cell_type": "code",
   "execution_count": 23,
   "metadata": {},
   "outputs": [
    {
     "name": "stdout",
     "output_type": "stream",
     "text": [
      "http://www.cs.cornell.edu/courses/CS5740/2021sp/\n",
      "https://classes.cornell.edu/browse/roster/FA21/class/CS/5740\n"
     ]
    }
   ],
   "source": [
    "import json\n",
    "test = cornell['sites'].sample().values[0].replace('\\'', '\\\"')\n",
    "test = test.replace('[','')\n",
    "test = test.replace(']','')\n",
    "links = json.loads(test)\n",
    "for l in links.values():\n",
    "    print(l)"
   ]
  },
  {
   "cell_type": "code",
   "execution_count": 24,
   "metadata": {},
   "outputs": [
    {
     "name": "stdout",
     "output_type": "stream",
     "text": [
      "<class 'pandas.core.frame.DataFrame'>\n",
      "RangeIndex: 88 entries, 0 to 87\n",
      "Data columns (total 5 columns):\n",
      " #   Column      Non-Null Count  Dtype \n",
      "---  ------      --------------  ----- \n",
      " 0   Group       88 non-null     object\n",
      " 1   Code        88 non-null     object\n",
      " 2   Course      88 non-null     object\n",
      " 3   Web         88 non-null     object\n",
      " 4   Unnamed: 4  14 non-null     object\n",
      "dtypes: object(5)\n",
      "memory usage: 3.6+ KB\n"
     ]
    }
   ],
   "source": [
    "stanford_strange = pd.read_csv('stanford_found.csv')\n",
    "stanford_strange.info()"
   ]
  },
  {
   "cell_type": "code",
   "execution_count": 25,
   "metadata": {},
   "outputs": [
    {
     "data": {
      "text/plain": [
       "60    http://web.stanford.edu/class/cs246/\n",
       "Name: Web, dtype: object"
      ]
     },
     "execution_count": 25,
     "metadata": {},
     "output_type": "execute_result"
    }
   ],
   "source": [
    "stanford_strange['Web'].sample()"
   ]
  },
  {
   "cell_type": "code",
   "execution_count": 26,
   "metadata": {},
   "outputs": [
    {
     "ename": "KeyError",
     "evalue": "0",
     "output_type": "error",
     "traceback": [
      "\u001b[1;31m---------------------------------------------------------------------------\u001b[0m",
      "\u001b[1;31mKeyError\u001b[0m                                  Traceback (most recent call last)",
      "File \u001b[1;32mc:\\Users\\AdamG\\anaconda3\\envs\\ocw\\lib\\site-packages\\pandas\\core\\indexes\\base.py:3621\u001b[0m, in \u001b[0;36mIndex.get_loc\u001b[1;34m(self, key, method, tolerance)\u001b[0m\n\u001b[0;32m   <a href='file:///c%3A/Users/AdamG/anaconda3/envs/ocw/lib/site-packages/pandas/core/indexes/base.py?line=3619'>3620</a>\u001b[0m \u001b[39mtry\u001b[39;00m:\n\u001b[1;32m-> <a href='file:///c%3A/Users/AdamG/anaconda3/envs/ocw/lib/site-packages/pandas/core/indexes/base.py?line=3620'>3621</a>\u001b[0m     \u001b[39mreturn\u001b[39;00m \u001b[39mself\u001b[39;49m\u001b[39m.\u001b[39;49m_engine\u001b[39m.\u001b[39;49mget_loc(casted_key)\n\u001b[0;32m   <a href='file:///c%3A/Users/AdamG/anaconda3/envs/ocw/lib/site-packages/pandas/core/indexes/base.py?line=3621'>3622</a>\u001b[0m \u001b[39mexcept\u001b[39;00m \u001b[39mKeyError\u001b[39;00m \u001b[39mas\u001b[39;00m err:\n",
      "File \u001b[1;32mc:\\Users\\AdamG\\anaconda3\\envs\\ocw\\lib\\site-packages\\pandas\\_libs\\index.pyx:136\u001b[0m, in \u001b[0;36mpandas._libs.index.IndexEngine.get_loc\u001b[1;34m()\u001b[0m\n",
      "File \u001b[1;32mc:\\Users\\AdamG\\anaconda3\\envs\\ocw\\lib\\site-packages\\pandas\\_libs\\index.pyx:163\u001b[0m, in \u001b[0;36mpandas._libs.index.IndexEngine.get_loc\u001b[1;34m()\u001b[0m\n",
      "File \u001b[1;32mpandas\\_libs\\hashtable_class_helper.pxi:5198\u001b[0m, in \u001b[0;36mpandas._libs.hashtable.PyObjectHashTable.get_item\u001b[1;34m()\u001b[0m\n",
      "File \u001b[1;32mpandas\\_libs\\hashtable_class_helper.pxi:5206\u001b[0m, in \u001b[0;36mpandas._libs.hashtable.PyObjectHashTable.get_item\u001b[1;34m()\u001b[0m\n",
      "\u001b[1;31mKeyError\u001b[0m: 0",
      "\nThe above exception was the direct cause of the following exception:\n",
      "\u001b[1;31mKeyError\u001b[0m                                  Traceback (most recent call last)",
      "\u001b[1;32mc:\\Users\\AdamG\\Desktop\\OpenLearn\\Scraping\\dataExplore.ipynb Cell 24'\u001b[0m in \u001b[0;36m<cell line: 1>\u001b[1;34m()\u001b[0m\n\u001b[1;32m----> <a href='vscode-notebook-cell:/c%3A/Users/AdamG/Desktop/OpenLearn/Scraping/dataExplore.ipynb#ch0000023?line=0'>1</a>\u001b[0m berk[\u001b[39m0\u001b[39;49m]\n",
      "File \u001b[1;32mc:\\Users\\AdamG\\anaconda3\\envs\\ocw\\lib\\site-packages\\pandas\\core\\frame.py:3505\u001b[0m, in \u001b[0;36mDataFrame.__getitem__\u001b[1;34m(self, key)\u001b[0m\n\u001b[0;32m   <a href='file:///c%3A/Users/AdamG/anaconda3/envs/ocw/lib/site-packages/pandas/core/frame.py?line=3502'>3503</a>\u001b[0m \u001b[39mif\u001b[39;00m \u001b[39mself\u001b[39m\u001b[39m.\u001b[39mcolumns\u001b[39m.\u001b[39mnlevels \u001b[39m>\u001b[39m \u001b[39m1\u001b[39m:\n\u001b[0;32m   <a href='file:///c%3A/Users/AdamG/anaconda3/envs/ocw/lib/site-packages/pandas/core/frame.py?line=3503'>3504</a>\u001b[0m     \u001b[39mreturn\u001b[39;00m \u001b[39mself\u001b[39m\u001b[39m.\u001b[39m_getitem_multilevel(key)\n\u001b[1;32m-> <a href='file:///c%3A/Users/AdamG/anaconda3/envs/ocw/lib/site-packages/pandas/core/frame.py?line=3504'>3505</a>\u001b[0m indexer \u001b[39m=\u001b[39m \u001b[39mself\u001b[39;49m\u001b[39m.\u001b[39;49mcolumns\u001b[39m.\u001b[39;49mget_loc(key)\n\u001b[0;32m   <a href='file:///c%3A/Users/AdamG/anaconda3/envs/ocw/lib/site-packages/pandas/core/frame.py?line=3505'>3506</a>\u001b[0m \u001b[39mif\u001b[39;00m is_integer(indexer):\n\u001b[0;32m   <a href='file:///c%3A/Users/AdamG/anaconda3/envs/ocw/lib/site-packages/pandas/core/frame.py?line=3506'>3507</a>\u001b[0m     indexer \u001b[39m=\u001b[39m [indexer]\n",
      "File \u001b[1;32mc:\\Users\\AdamG\\anaconda3\\envs\\ocw\\lib\\site-packages\\pandas\\core\\indexes\\base.py:3623\u001b[0m, in \u001b[0;36mIndex.get_loc\u001b[1;34m(self, key, method, tolerance)\u001b[0m\n\u001b[0;32m   <a href='file:///c%3A/Users/AdamG/anaconda3/envs/ocw/lib/site-packages/pandas/core/indexes/base.py?line=3620'>3621</a>\u001b[0m     \u001b[39mreturn\u001b[39;00m \u001b[39mself\u001b[39m\u001b[39m.\u001b[39m_engine\u001b[39m.\u001b[39mget_loc(casted_key)\n\u001b[0;32m   <a href='file:///c%3A/Users/AdamG/anaconda3/envs/ocw/lib/site-packages/pandas/core/indexes/base.py?line=3621'>3622</a>\u001b[0m \u001b[39mexcept\u001b[39;00m \u001b[39mKeyError\u001b[39;00m \u001b[39mas\u001b[39;00m err:\n\u001b[1;32m-> <a href='file:///c%3A/Users/AdamG/anaconda3/envs/ocw/lib/site-packages/pandas/core/indexes/base.py?line=3622'>3623</a>\u001b[0m     \u001b[39mraise\u001b[39;00m \u001b[39mKeyError\u001b[39;00m(key) \u001b[39mfrom\u001b[39;00m \u001b[39merr\u001b[39;00m\n\u001b[0;32m   <a href='file:///c%3A/Users/AdamG/anaconda3/envs/ocw/lib/site-packages/pandas/core/indexes/base.py?line=3623'>3624</a>\u001b[0m \u001b[39mexcept\u001b[39;00m \u001b[39mTypeError\u001b[39;00m:\n\u001b[0;32m   <a href='file:///c%3A/Users/AdamG/anaconda3/envs/ocw/lib/site-packages/pandas/core/indexes/base.py?line=3624'>3625</a>\u001b[0m     \u001b[39m# If we have a listlike key, _check_indexing_error will raise\u001b[39;00m\n\u001b[0;32m   <a href='file:///c%3A/Users/AdamG/anaconda3/envs/ocw/lib/site-packages/pandas/core/indexes/base.py?line=3625'>3626</a>\u001b[0m     \u001b[39m#  InvalidIndexError. Otherwise we fall through and re-raise\u001b[39;00m\n\u001b[0;32m   <a href='file:///c%3A/Users/AdamG/anaconda3/envs/ocw/lib/site-packages/pandas/core/indexes/base.py?line=3626'>3627</a>\u001b[0m     \u001b[39m#  the TypeError.\u001b[39;00m\n\u001b[0;32m   <a href='file:///c%3A/Users/AdamG/anaconda3/envs/ocw/lib/site-packages/pandas/core/indexes/base.py?line=3627'>3628</a>\u001b[0m     \u001b[39mself\u001b[39m\u001b[39m.\u001b[39m_check_indexing_error(key)\n",
      "\u001b[1;31mKeyError\u001b[0m: 0"
     ]
    }
   ],
   "source": [
    "berk[0]"
   ]
  },
  {
   "cell_type": "code",
   "execution_count": null,
   "metadata": {},
   "outputs": [],
   "source": []
  }
 ],
 "metadata": {
  "interpreter": {
   "hash": "b53b9ef557d0978540bf158510d60974cf98295b953241dd20cc12bd4ca8b7a8"
  },
  "kernelspec": {
   "display_name": "Python 3.9.12 ('ocw')",
   "language": "python",
   "name": "python3"
  },
  "language_info": {
   "codemirror_mode": {
    "name": "ipython",
    "version": 3
   },
   "file_extension": ".py",
   "mimetype": "text/x-python",
   "name": "python",
   "nbconvert_exporter": "python",
   "pygments_lexer": "ipython3",
   "version": "3.9.12"
  },
  "orig_nbformat": 4
 },
 "nbformat": 4,
 "nbformat_minor": 2
}
